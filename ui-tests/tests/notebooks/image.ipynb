{
 "cells": [
  {
   "cell_type": "code",
   "execution_count": null,
   "id": "df77670d",
   "metadata": {},
   "outputs": [],
   "source": [
    "import numpy as np\n",
    "from bqplot import Figure, LinearScale, Axis, ColorScale\n",
    "from bqplot_image_gl import ImageGL\n",
    "scale_x = LinearScale(min=0, max=1, allow_padding=False)\n",
    "scale_y = LinearScale(min=0, max=1, allow_padding=False)\n",
    "scales = {'x': scale_x,\n",
    "          'y': scale_y}\n",
    "axis_x = Axis(scale=scale_x, label='x', )\n",
    "axis_y = Axis(scale=scale_y, label='y', orientation='vertical')\n",
    "\n",
    "figure = Figure(scales=scales, axes=[axis_x, axis_y])\n",
    "\n",
    "scales_image = {'x': scale_x,\n",
    "                'y': scale_y,\n",
    "                'image': ColorScale(min=0, max=1)}\n",
    "\n",
    "s = 1\n",
    "np.random.seed(0)\n",
    "image = ImageGL(image=np.random.random((10, 10)).astype('float32'), scales=scales_image)\n",
    "\n",
    "figure.marks = (image,)\n",
    "figure"
   ]
  }
 ],
 "metadata": {
  "kernelspec": {
   "display_name": "Python 3 (ipykernel)",
   "language": "python",
   "name": "python3"
  },
  "language_info": {
   "codemirror_mode": {
    "name": "ipython",
    "version": 3
   },
   "file_extension": ".py",
   "mimetype": "text/x-python",
   "name": "python",
   "nbconvert_exporter": "python",
   "pygments_lexer": "ipython3",
   "version": "3.9.16"
  }
 },
 "nbformat": 4,
 "nbformat_minor": 5
}
