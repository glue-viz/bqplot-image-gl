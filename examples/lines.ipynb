{
 "cells": [
  {
   "cell_type": "code",
   "execution_count": null,
   "id": "c88b886f",
   "metadata": {},
   "outputs": [],
   "source": [
    "import numpy as np\n",
    "# N = int(1e5)\n",
    "large = True \n",
    "if large:\n",
    "    # for testing performance\n",
    "    N = int(1e5)\n",
    "    x = np.arange(N) * 100\n",
    "    y = np.cumsum(np.random.random(N)*2-1)\n",
    "    y -= y.mean()\n",
    "else:\n",
    "    # for testing features\n",
    "    x = np.arange(10) * 100\n",
    "    y = np.array([0, 10, 4, 5, 6, 6, 6, 0, 10, 10])"
   ]
  },
  {
   "cell_type": "code",
   "execution_count": null,
   "id": "cd8f7a3e",
   "metadata": {},
   "outputs": [],
   "source": [
    "import numpy as np\n",
    "from bqplot import Figure, LinearScale, Axis, ColorScale, Lines\n",
    "from bqplot_image_gl import LinesGL\n",
    "import ipywidgets as widgets\n",
    "\n",
    "scale_x = LinearScale(min=-N*10, max=x.max()*1.2, allow_padding=False)\n",
    "scale_y = LinearScale(allow_padding=False)\n",
    "scales = {'x': scale_x, 'y': scale_y}\n",
    "axis_x = Axis(scale=scale_x, label='x')\n",
    "axis_y = Axis(scale=scale_y, label='y', orientation='vertical')\n",
    "line_gl = LinesGL(x=x, y=y, scales=scales, colors=['orange'])\n",
    "if large:\n",
    "    marks = [line_gl]\n",
    "else:\n",
    "    line = Lines(x=x, y=y+0.2, scales=scales)\n",
    "    marks = [line_gl, line]\n",
    "figure = Figure(scales=scales, axes=[axis_x, axis_y], marks=marks)\n",
    "figure"
   ]
  },
  {
   "cell_type": "code",
   "execution_count": null,
   "id": "acc86039",
   "metadata": {},
   "outputs": [],
   "source": [
    "figure.layout.width = \"1200px\"\n",
    "figure.layout.height = \"400px\""
   ]
  },
  {
   "cell_type": "code",
   "execution_count": null,
   "id": "a5c1887f",
   "metadata": {},
   "outputs": [],
   "source": [
    "from bqplot import PanZoom\n",
    "panzoom = PanZoom(scales={'x': [scales['x']], 'y': [scales['y']]})\n",
    "figure.interaction = panzoom"
   ]
  },
  {
   "cell_type": "code",
   "execution_count": null,
   "id": "77b44713",
   "metadata": {},
   "outputs": [],
   "source": [
    "slider = widgets.FloatLogSlider(min=-1, max=1.2, value=2)\n",
    "widgets.link((slider, 'value'), (line_gl, 'stroke_width'))\n",
    "if not large:\n",
    "    widgets.link((slider, 'value'), (line, 'stroke_width'))\n",
    "slider"
   ]
  },
  {
   "cell_type": "code",
   "execution_count": null,
   "id": "e2d6908a",
   "metadata": {},
   "outputs": [],
   "source": [
    "line_gl.colors = ['#f0f']"
   ]
  },
  {
   "cell_type": "code",
   "execution_count": null,
   "id": "09f3be8b",
   "metadata": {},
   "outputs": [],
   "source": [
    "line_gl.y = -line_gl.y\n",
    "if not large:\n",
    "    line.y = -line.y"
   ]
  },
  {
   "cell_type": "code",
   "execution_count": null,
   "id": "b913a3c4",
   "metadata": {},
   "outputs": [],
   "source": [
    "line_gl.opacities = [0.2]\n",
    "if not large:\n",
    "    line.opacities = [0.2]"
   ]
  },
  {
   "cell_type": "code",
   "execution_count": null,
   "id": "fdb546b1",
   "metadata": {},
   "outputs": [],
   "source": [
    "line_gl.opacities = [0.8]\n",
    "if not large:\n",
    "    line.opacities = [0.8]"
   ]
  },
  {
   "cell_type": "code",
   "execution_count": null,
   "id": "3a9fd266",
   "metadata": {},
   "outputs": [],
   "source": []
  }
 ],
 "metadata": {
  "kernelspec": {
   "display_name": "Python 3",
   "language": "python",
   "name": "python3"
  },
  "language_info": {
   "codemirror_mode": {
    "name": "ipython",
    "version": 3
   },
   "file_extension": ".py",
   "mimetype": "text/x-python",
   "name": "python",
   "nbconvert_exporter": "python",
   "pygments_lexer": "ipython3",
   "version": "3.7.10"
  }
 },
 "nbformat": 4,
 "nbformat_minor": 5
}
