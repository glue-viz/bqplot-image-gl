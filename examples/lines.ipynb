{
 "cells": [
  {
   "cell_type": "code",
   "execution_count": null,
   "id": "c88b886f",
   "metadata": {},
   "outputs": [],
   "source": [
    "import numpy as np\n",
    "N = int(1e6)\n",
    "x = np.arange(N)\n",
    "y = np.cumsum(np.random.random(N)*2-1)\n",
    "y -= y.mean()"
   ]
  },
  {
   "cell_type": "code",
   "execution_count": null,
   "id": "cd8f7a3e",
   "metadata": {},
   "outputs": [],
   "source": [
    "import numpy as np\n",
    "from bqplot import Figure, LinearScale, Axis, ColorScale, Lines\n",
    "from bqplot_image_gl import LinesGL\n",
    "import ipywidgets as widgets\n",
    "\n",
    "scale_x = LinearScale(min=-0.1*N, max=N*1.2, allow_padding=False)\n",
    "scale_y = LinearScale(allow_padding=False)\n",
    "scales = {'x': scale_x, 'y': scale_y}\n",
    "axis_x = Axis(scale=scale_x, label='x')\n",
    "axis_y = Axis(scale=scale_y, label='y', orientation='vertical')\n",
    "line = LinesGL(x=x, y=y, scales=scales)\n",
    "marks = [line]\n",
    "figure = Figure(scales=scales, axes=[axis_x, axis_y], marks=marks)\n",
    "figure"
   ]
  },
  {
   "cell_type": "code",
   "execution_count": null,
   "id": "a5c1887f",
   "metadata": {},
   "outputs": [],
   "source": [
    "from bqplot import PanZoom\n",
    "panzoom = PanZoom(scales={'x': [scales['x']], 'y': [scales['y']]})\n",
    "figure.interaction = panzoom"
   ]
  },
  {
   "cell_type": "code",
   "execution_count": null,
   "id": "e2d6908a",
   "metadata": {},
   "outputs": [],
   "source": [
    "line.colors = ['#f0f']"
   ]
  },
  {
   "cell_type": "code",
   "execution_count": null,
   "id": "09f3be8b",
   "metadata": {},
   "outputs": [],
   "source": [
    "line.y = -line.y"
   ]
  },
  {
   "cell_type": "code",
   "execution_count": null,
   "id": "096fb6e3",
   "metadata": {},
   "outputs": [],
   "source": [
    "line.x = line.x + (np.random.random() - 0.5) * N / 10"
   ]
  },
  {
   "cell_type": "code",
   "execution_count": null,
   "id": "b913a3c4",
   "metadata": {},
   "outputs": [],
   "source": [
    "line.opacities = [0.2]"
   ]
  },
  {
   "cell_type": "code",
   "execution_count": null,
   "id": "fdb546b1",
   "metadata": {},
   "outputs": [],
   "source": [
    "line.opacities = [1.0]"
   ]
  },
  {
   "cell_type": "code",
   "execution_count": null,
   "id": "3a9fd266",
   "metadata": {},
   "outputs": [],
   "source": []
  }
 ],
 "metadata": {
  "kernelspec": {
   "display_name": "Python 3",
   "language": "python",
   "name": "python3"
  },
  "language_info": {
   "codemirror_mode": {
    "name": "ipython",
    "version": 3
   },
   "file_extension": ".py",
   "mimetype": "text/x-python",
   "name": "python",
   "nbconvert_exporter": "python",
   "pygments_lexer": "ipython3",
   "version": "3.7.10"
  }
 },
 "nbformat": 4,
 "nbformat_minor": 5
}
